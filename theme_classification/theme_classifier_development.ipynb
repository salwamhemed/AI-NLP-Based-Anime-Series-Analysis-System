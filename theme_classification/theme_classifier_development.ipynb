{
 "cells": [
  {
   "cell_type": "code",
   "execution_count": 2,
   "metadata": {},
   "outputs": [
    {
     "name": "stderr",
     "output_type": "stream",
     "text": [
      "c:\\Users\\salwa\\AppData\\Local\\Programs\\Python\\Python311\\Lib\\site-packages\\tqdm\\auto.py:21: TqdmWarning: IProgress not found. Please update jupyter and ipywidgets. See https://ipywidgets.readthedocs.io/en/stable/user_install.html\n",
      "  from .autonotebook import tqdm as notebook_tqdm\n"
     ]
    }
   ],
   "source": [
    "from transformers import pipeline\n",
    "from nltk import sent_tokenize\n",
    "import nltk\n",
    "import torch"
   ]
  },
  {
   "cell_type": "code",
   "execution_count": 3,
   "metadata": {},
   "outputs": [
    {
     "name": "stderr",
     "output_type": "stream",
     "text": [
      "[nltk_data] Downloading package punkt to\n",
      "[nltk_data]     C:\\Users\\salwa\\AppData\\Roaming\\nltk_data...\n",
      "[nltk_data]   Package punkt is already up-to-date!\n"
     ]
    },
    {
     "data": {
      "text/plain": [
       "True"
      ]
     },
     "execution_count": 3,
     "metadata": {},
     "output_type": "execute_result"
    }
   ],
   "source": [
    "nltk.download('punkt')"
   ]
  },
  {
   "cell_type": "code",
   "execution_count": 4,
   "metadata": {},
   "outputs": [],
   "source": [
    "#Load model\n",
    "model_name = \"facebook/bart-large-mnli\"\n",
    "device = 0 if torch.cuda.is_available() else 'cpu'"
   ]
  },
  {
   "cell_type": "code",
   "execution_count": 5,
   "metadata": {},
   "outputs": [],
   "source": [
    "def load_model(device):\n",
    "    theme_classifier = pipeline(\"zero-shot-classification\", model=model_name, device=device)\n",
    "    return theme_classifier\n"
   ]
  },
  {
   "cell_type": "code",
   "execution_count": 6,
   "metadata": {},
   "outputs": [
    {
     "name": "stdout",
     "output_type": "stream",
     "text": [
      "WARNING:tensorflow:From c:\\Users\\salwa\\AppData\\Local\\Programs\\Python\\Python311\\Lib\\site-packages\\tf_keras\\src\\losses.py:2976: The name tf.losses.sparse_softmax_cross_entropy is deprecated. Please use tf.compat.v1.losses.sparse_softmax_cross_entropy instead.\n",
      "\n"
     ]
    },
    {
     "name": "stderr",
     "output_type": "stream",
     "text": [
      "c:\\Users\\salwa\\AppData\\Local\\Programs\\Python\\Python311\\Lib\\site-packages\\transformers\\tokenization_utils_base.py:1601: FutureWarning: `clean_up_tokenization_spaces` was not set. It will be set to `True` by default. This behavior will be depracted in transformers v4.45, and will be then set to `False` by default. For more details check this issue: https://github.com/huggingface/transformers/issues/31884\n",
      "  warnings.warn(\n"
     ]
    }
   ],
   "source": [
    "theme_classifier = load_model(device)"
   ]
  },
  {
   "cell_type": "code",
   "execution_count": 7,
   "metadata": {},
   "outputs": [],
   "source": [
    "theme_list = [\"love\",\"friendship\",\"hope\",\"sacrifice\",\"success\",\"betrayal\",\"discipline\",\"battle\"]"
   ]
  },
  {
   "cell_type": "code",
   "execution_count": 8,
   "metadata": {},
   "outputs": [
    {
     "data": {
      "text/plain": [
       "{'sequence': 'i love my friend',\n",
       " 'labels': ['friendship',\n",
       "  'love',\n",
       "  'success',\n",
       "  'sacrifice',\n",
       "  'hope',\n",
       "  'battle',\n",
       "  'discipline',\n",
       "  'betrayal'],\n",
       " 'scores': [0.9966062903404236,\n",
       "  0.9817240238189697,\n",
       "  0.48883700370788574,\n",
       "  0.33532094955444336,\n",
       "  0.19325266778469086,\n",
       "  0.01196574792265892,\n",
       "  0.008551559410989285,\n",
       "  0.007199863903224468]}"
      ]
     },
     "execution_count": 8,
     "metadata": {},
     "output_type": "execute_result"
    }
   ],
   "source": [
    "theme_classifier(\"i love my friend\", theme_list, multi_label=True) "
   ]
  },
  {
   "cell_type": "markdown",
   "metadata": {},
   "source": [
    "Load Dataset\n"
   ]
  },
  {
   "cell_type": "code",
   "execution_count": 9,
   "metadata": {},
   "outputs": [],
   "source": [
    "from glob import glob"
   ]
  },
  {
   "cell_type": "code",
   "execution_count": 10,
   "metadata": {},
   "outputs": [],
   "source": [
    "files = glob(\"..\\data\\subtitles\\*.ass\")"
   ]
  },
  {
   "cell_type": "code",
   "execution_count": 11,
   "metadata": {},
   "outputs": [
    {
     "data": {
      "text/plain": [
       "['..\\\\data\\\\subtitles\\\\Hunter x Hunter - 01.enUS.ass',\n",
       " '..\\\\data\\\\subtitles\\\\Hunter x Hunter - 02.enUS.ass',\n",
       " '..\\\\data\\\\subtitles\\\\Hunter x Hunter - 03.enUS.ass',\n",
       " '..\\\\data\\\\subtitles\\\\Hunter x Hunter - 04.enUS.ass',\n",
       " '..\\\\data\\\\subtitles\\\\Hunter x Hunter - 05.enUS.ass']"
      ]
     },
     "execution_count": 11,
     "metadata": {},
     "output_type": "execute_result"
    }
   ],
   "source": [
    "files[:5]"
   ]
  },
  {
   "cell_type": "code",
   "execution_count": 12,
   "metadata": {},
   "outputs": [],
   "source": [
    "with open(files[0],'r') as my_file:\n",
    "    lines = my_file.readlines()\n",
    "    lines = lines[30:]\n",
    "    lines = [\",\".join(line.split(',')[9:]) for line in lines ]"
   ]
  },
  {
   "cell_type": "code",
   "execution_count": 13,
   "metadata": {},
   "outputs": [
    {
     "data": {
      "text/plain": [
       "['Fearsome monsters... Exotic creatures...\\n',\n",
       " 'Vast riches... Hidden treasures...\\n',\n",
       " 'Evil enclaves... Unexplored lands...\\n',\n",
       " 'The word \"unknown\" holds magic.\\n',\n",
       " 'And some incredible people are \\\\Ndrawn to that magic.\\n']"
      ]
     },
     "execution_count": 13,
     "metadata": {},
     "output_type": "execute_result"
    }
   ],
   "source": [
    "lines[:5]"
   ]
  },
  {
   "cell_type": "code",
   "execution_count": 14,
   "metadata": {},
   "outputs": [],
   "source": [
    "lines = [ line.replace('\\n',' ') for line in lines ]\n",
    "lines = [ line.replace('\\\\N',' ') for line in lines ]\n"
   ]
  },
  {
   "cell_type": "code",
   "execution_count": 15,
   "metadata": {},
   "outputs": [
    {
     "data": {
      "text/plain": [
       "['Fearsome monsters... Exotic creatures... ',\n",
       " 'Vast riches... Hidden treasures... ',\n",
       " 'Evil enclaves... Unexplored lands... ',\n",
       " 'The word \"unknown\" holds magic. ',\n",
       " 'And some incredible people are  drawn to that magic. ',\n",
       " 'They are known... ',\n",
       " '...as Hunters! ',\n",
       " 'Departure x And x Friends ',\n",
       " '{\\\\an8\\\\fad(601,580)}Whale Island ',\n",
       " \"Gon's still trying to catch the Lord of the Lake? \"]"
      ]
     },
     "execution_count": 15,
     "metadata": {},
     "output_type": "execute_result"
    }
   ],
   "source": [
    "lines[:10]"
   ]
  },
  {
   "cell_type": "code",
   "execution_count": 16,
   "metadata": {},
   "outputs": [
    {
     "data": {
      "text/plain": [
       "'Fearsome monsters... Exotic creatures...  Vast riches... Hidden treasures...  Evil enclaves... Unexplored lands...  The word \"unknown\" holds magic.  And some incredible people are  drawn to that magic.  They are known...  ...as Hunters!  Departure x And x Friends  {\\\\an8\\\\fad(601,580)}Whale Island  Gon\\'s still trying to catch the Lord of the Lake? '"
      ]
     },
     "execution_count": 16,
     "metadata": {},
     "output_type": "execute_result"
    }
   ],
   "source": [
    "\" \".join(lines[:10])"
   ]
  },
  {
   "cell_type": "code",
   "execution_count": 17,
   "metadata": {},
   "outputs": [
    {
     "data": {
      "text/plain": [
       "1"
      ]
     },
     "execution_count": 17,
     "metadata": {},
     "output_type": "execute_result"
    }
   ],
   "source": [
    "int(files[0].split('-')[-1].split('.')[0].strip())"
   ]
  },
  {
   "cell_type": "code",
   "execution_count": 18,
   "metadata": {},
   "outputs": [],
   "source": [
    "import pandas as pd\n",
    "\n",
    "def load_subtitles(dataset_path):\n",
    " scripts= []\n",
    " episode_numbers=[]\n",
    " paths = glob(dataset_path+'/*.ass')\n",
    " for path in paths:\n",
    "    with open(path,'r') as my_file:\n",
    "      lines = my_file.readlines()\n",
    "      lines = lines[25:]\n",
    "      lines = [\",\".join(line.split(',')[9:]) for line in lines ]\n",
    "     \n",
    "    lines = [ line.replace('\\n',' ') for line in lines ]\n",
    "    lines = [ line.replace('\\\\N',' ') for line in lines ]\n",
    "    script = \" \".join(lines)\n",
    "    episode_num= int(path.split('-')[-1].split('.')[0].strip())\n",
    "\n",
    "    scripts.append(script)\n",
    "    episode_numbers.append(episode_num)\n",
    "  \n",
    " df = pd.DataFrame.from_dict({\"episode\": episode_numbers,\"scripts\": scripts})\n",
    "\n",
    " return df \n",
    "\n",
    "\n"
   ]
  },
  {
   "cell_type": "code",
   "execution_count": 19,
   "metadata": {},
   "outputs": [],
   "source": [
    "dataset_path = \"../data/subtitles\"\n",
    "df = load_subtitles(dataset_path)"
   ]
  },
  {
   "cell_type": "code",
   "execution_count": 20,
   "metadata": {},
   "outputs": [
    {
     "data": {
      "text/html": [
       "<div>\n",
       "<style scoped>\n",
       "    .dataframe tbody tr th:only-of-type {\n",
       "        vertical-align: middle;\n",
       "    }\n",
       "\n",
       "    .dataframe tbody tr th {\n",
       "        vertical-align: top;\n",
       "    }\n",
       "\n",
       "    .dataframe thead th {\n",
       "        text-align: right;\n",
       "    }\n",
       "</style>\n",
       "<table border=\"1\" class=\"dataframe\">\n",
       "  <thead>\n",
       "    <tr style=\"text-align: right;\">\n",
       "      <th></th>\n",
       "      <th>episode</th>\n",
       "      <th>scripts</th>\n",
       "    </tr>\n",
       "  </thead>\n",
       "  <tbody>\n",
       "    <tr>\n",
       "      <th>0</th>\n",
       "      <td>1</td>\n",
       "      <td>Fearsome monsters... Exotic creatures...  Vast...</td>\n",
       "    </tr>\n",
       "    <tr>\n",
       "      <th>1</th>\n",
       "      <td>2</td>\n",
       "      <td>Text  Fearsome monsters... Exotic creatures......</td>\n",
       "    </tr>\n",
       "    <tr>\n",
       "      <th>2</th>\n",
       "      <td>3</td>\n",
       "      <td>Text  Fearsome monsters... Exotic creatures......</td>\n",
       "    </tr>\n",
       "    <tr>\n",
       "      <th>3</th>\n",
       "      <td>4</td>\n",
       "      <td>Text  Fearsome monsters... Exotic creatures......</td>\n",
       "    </tr>\n",
       "    <tr>\n",
       "      <th>4</th>\n",
       "      <td>5</td>\n",
       "      <td>Text  Fearsome monsters... Exotic creatures.....</td>\n",
       "    </tr>\n",
       "  </tbody>\n",
       "</table>\n",
       "</div>"
      ],
      "text/plain": [
       "   episode                                            scripts\n",
       "0        1  Fearsome monsters... Exotic creatures...  Vast...\n",
       "1        2  Text  Fearsome monsters... Exotic creatures......\n",
       "2        3  Text  Fearsome monsters... Exotic creatures......\n",
       "3        4  Text  Fearsome monsters... Exotic creatures......\n",
       "4        5   Text  Fearsome monsters... Exotic creatures....."
      ]
     },
     "execution_count": 20,
     "metadata": {},
     "output_type": "execute_result"
    }
   ],
   "source": [
    "df.head()"
   ]
  },
  {
   "cell_type": "code",
   "execution_count": 21,
   "metadata": {},
   "outputs": [
    {
     "data": {
      "text/plain": [
       "'Fearsome monsters... Exotic creatures...  Vast riches... Hidden treasures...  Evil enclaves... Unexplored lands...  The word \"unknown\" holds magic.  And some incredible people are  drawn to that magic.  They are known...  ...as Hunters!  Departure x And x Friends  {\\\\an8\\\\fad(601,580)}Whale Island  Gon\\'s still trying to catch the Lord of the Lake?  Huh?  Y-Yes...  He\\'s been at it for a week, non-stop.  You promised he could take the Hunter Exam  if he caught the Lord of the Lake?  What a fool!  Five adults couldn\\'t manage to  reel in that monster.  How is a child supposed to catch that beast?  Mito-san doesn\\'t want him  taking the Hunter Exam.  But Gon\\'s old man was the same age  when he caught it...  He can\\'t do it.  Got him!  Yes! Yes! Yes! Yes! Yes!  I got him good!  It\\'s huge!  This is the Lord of the Lake?  It\\'s been twenty years!  I know! It was Gon\\'s father that time, right?  He\\'s his father\\'s son.  Gon actually caught the Lord!  Look, Mito-san!  Mito-san!  I caught the Lord, as promised...  So I can take the Hunter Exam, right?  Right?  I\\'ll do my best.  I promise to become a Hunter!  It must be in the blood...  No one has been able to catch the Lord  after Ging pulled it off, at the age of twelve.  And now his son has accomplished  the same feat, at the same age.  His eyes have the same shine as his father\\'s.  We can no longer stop him.  Are you sure about this, Gon?  Uh-huh.  Your father abandoned you  when you were still young  to become a Hunter.  I know.  He chose becoming a Hunter over raising you!  Isn\\'t that amazing?  Huh?  Being a Hunter is so great, he was willing  to abandon his own kid!  It\\'s a dangerous job!  You never know when you might lose your life!  Don\\'t you understand?  I don\\'t.  But I want to know more!  I want to become a Hunter and discover why  it was so important to my dad!  You really are Ging\\'s son...  I promise I\\'ll pass the exam.  I\\'ll pass the exam, and I\\'ll become a Hunter!  Just promise that you\\'ll come back safe.  Can you do that?  Uh-huh, I promise!  Pinky swear made...  Whoever breaks their promise has  to swallow a thousand needles.  Sealed with a kiss!  Gon...  Thank you, Mito-san.  Good luck!  Knock \\'em dead!  I\\'m going to become the  best Hunter in the world!  Once I\\'m the best Hunter  in the world, I\\'ll come back!  The best Hunter in the world?  Kid doesn\\'t respect us.  Every year, there are millions of skilled  applicants for the Hunter Exam.  But only a handful are selected.  Don\\'t say stuff that you can\\'t back up, boy.  What are you doing, Katsuo?  At this rate, you\\'ll never make a decent sailor.  Why are you bent over?  Hey, losers!  Don\\'t slack off!  A-Aye, sir!  Hey...  Didn\\'t you hear me?  Move that box!  A-Aye, Captain!  Hold on.  Thanks!  A storm\\'s coming.  How can you tell, boy?  That\\'s what the seagulls are saying.  What?  Plus...  It\\'s a huge storm that\\'s coming!  It\\'s true...  I can tell by the smell!  {\\\\i1}That boy...  {\\\\i1}Those eyes...  {\\\\i1}Could he be...  Captain!  The mast won\\'t last much longer!  We should lower the sails!  Don\\'t be stupid!  The fun\\'s about to start.  Here we go!  Full to port!  Let\\'s fly!  Hunter Vocabulary  Gon  Those waves weren\\'t much...  Hey, take the helm.  A-Aye!  Damn, this is one lousy crew.  Not a one of them can stand.  Pathetic.  And they\\'re supposed to be  taking the Hunter Examination.  What a laugh!  Here are some herbs.  If you chew them, you\\'ll feel a little better.  W-Water...  It\\'s coming, so hold on.  That boy...  This is one sour apple...  {\\\\i1}I see.  {\\\\i1}There are a few tough nuts on board.  Excuse me!  H-Here is your water!  Thanks.  Now drink your fill.  Thanks. I really appreciate it, Katsuo-san.  First, tell me your names.  I\\'m Gon!  I\\'m Kurapika.  It\\'s Leorio.  Why do you want to become Hunters?  Hey! If you\\'re not an examiner,  you can\\'t boss us around!  Just answer the question!  My dad is a Hunter.  I left Whale Island because I want to know  why my dad desired so much to be a Hunter.  {\\\\i1}Whale Island...  {\\\\i1}So this is Ging\\'s son.  {\\\\i1}The day has finally come.  Hey, kid!  Huh?  You\\'re not supposed to answer his question!  Why can\\'t I tell him why I\\'m here?  Not a team player, huh?  I don\\'t wish to reveal why I\\'m here.  I agree with Leorio.  What?  Hey! Aren\\'t you younger than I am?  Show some respect!  It\\'s quite simple to avoid pesky questions  by offering a plausible lie.  Hey! Are you listening to me?  However, it is quite shameful to rely upon deceit.  That said, if I were to tell you the truth,  I would be exposing my deepest secrets.  That is why I cannot provide an answer.  Hey, you... Don\\'t ignore me!  In other words,  you refuse to answer my question.  Hey, Katsuo.  Aye, Captain.  Tell the examination board that  we have two more dropouts.  What do you mean?  You still haven\\'t figured it out?  The Hunter Examination has already begun.  What?  There are as many Hunter wannabes  as there are stars in the sky.  The examiners don\\'t have the time or  resources to review them all.  So they hire people like us, to trim the fat.  I\\'ve already notified the board  that everyone else on this ship had to withdraw.  If they couldn\\'t handle a little storm,  they\\'d stand no chance in the  Hunter Examination\\'s later stages.  In other words, you only proceed to  the main exam if I pass you.  So think carefully before you answer my question.  So he says...  Should have told us sooner.  I am the last survivor of the Kurta Clan.  Four years ago, my clan was annihilated  by a band of criminals.  I wish to become a Hunter and  hunt down that band,  the Phantom Troupe.  So you want to become a bounty hunter?  The Phantom Troupe is a Class-A bounty.  Not even the most grizzled Hunters  can touch them.  You\\'d be throwing away your life.  I do not fear death.  I fear only that my rage  will fade over time.  So, in other words, you want revenge.  Does that require that you become a Hunter?  That may be the stupidest question  I\\'ve ever heard, Leorio.  That\\'s Leorio-san to you!  Places accessible only to Hunters...  Information otherwise unobtainable...  Actions otherwise impossible...  There are more reasons than your  brain could possibly handle.  Hey!  Why do you want to become a Hunter, Leorio-san?  Me?  I\\'ll make it short.  I want money.  Money can get you everything!  A big house!  A nice car!  Good liquor!  You can\\'t buy class with money, Leorio.  That\\'s three times now.  Step outside.  I\\'ll end the filthy Kurta bloodline, here and now.  Take that back, Leorio!  Take that back!  That\\'s Leorio-san to you.  Hey, boys!  I\\'m not finished yet!  Just let them go.  Huh?  Mito-san once told me...  {\\\\i1}If you want to get to know someone,  {\\\\i1}you need to make an effort  {\\\\i1}to learn why they\\'re angry.  It\\'s important for them to  understand why they\\'re mad.  So we should let them settle it themselves.  Captain!  L-Look...  If we get caught by that waterspout,  the ship will sink.  Lower the sails now.  Aye!  I\\'ll help!  Uh-huh, come with me.  I\\'ll take the helm.  Aye!  Full to starboard!  Hurry!  The waterspout is gonna catch us!  Take back what you said!  Take back your words,  and I\\'ll forgive you, Leorio.  How many times must I repeat myself?  You should show me some respect.  I won\\'t back down.  Then I have no choice...  Katsuo-san!  Damn it!  Pull \\'em out! Now...  You idiot!  If we hadn\\'t grabbed your legs,  you\\'d be shark bait now.  Honestly...  How reckless can you be?  But you did catch me.  Huh?  You both caught me!  Well, I guess so...  Gon!  Katsuo-san!  Thanks, Gon!  You saved my life.  I couldn\\'t have done it alone.  These two helped save you.  Huh?  Thank you very much!  No, you don\\'t need to thank me.  Well...  Yeah, I\\'m glad you\\'re okay.  Yeah! So I\\'ll be returning to my station!  What?  I apologize for my rude behavior.  Sorry, Leorio-san.  Wh-What\\'s with the sudden change?  We sound like strangers...  Just call me Leorio... Leorio works.  I\\'m also sorry.  I take back everything I said.  I was wrong.  No, it\\'s okay.  I like you guys!  Okay!  I\\'ll take responsibility for bringing  you three to the port closest to the exam site.  Really?  What about your test?  Like I said...  It\\'s my decision to make.  And all three of you pass!  Yay!  And so began Gon\\'s journey...  To follow in his father\\'s footsteps  and become a Hunter.  Next time: Test x Of x Tests.  Look forward to it! '"
      ]
     },
     "execution_count": 21,
     "metadata": {},
     "output_type": "execute_result"
    }
   ],
   "source": [
    "#Getting the first row of the scripts column\n",
    "script = df.iloc[0].scripts\n",
    "script"
   ]
  },
  {
   "cell_type": "code",
   "execution_count": 22,
   "metadata": {},
   "outputs": [
    {
     "data": {
      "text/plain": [
       "['Fearsome monsters...',\n",
       " 'Exotic creatures...',\n",
       " 'Vast riches... Hidden treasures...',\n",
       " 'Evil enclaves... Unexplored lands...',\n",
       " 'The word \"unknown\" holds magic.',\n",
       " 'And some incredible people are  drawn to that magic.',\n",
       " 'They are known...  ...as Hunters!',\n",
       " \"Departure x And x Friends  {\\\\an8\\\\fad(601,580)}Whale Island  Gon's still trying to catch the Lord of the Lake?\",\n",
       " 'Huh?',\n",
       " 'Y-Yes...']"
      ]
     },
     "execution_count": 22,
     "metadata": {},
     "output_type": "execute_result"
    }
   ],
   "source": [
    "#Splitting the script into sentences\n",
    "script_sentences = sent_tokenize(script)\n",
    "script_sentences[:10]"
   ]
  },
  {
   "cell_type": "code",
   "execution_count": 23,
   "metadata": {},
   "outputs": [],
   "source": [
    "#Batch sentences into a list of sentences of 20 words\n",
    "sentences_batch_size = 20\n",
    "script_batches = []\n",
    "for i in range(0,len(script_sentences),sentences_batch_size):\n",
    "    sent = \" \".join(script_sentences[i:i+sentences_batch_size])\n",
    "    script_batches.append(sent)\n",
    "    \n",
    "\n",
    "               "
   ]
  },
  {
   "cell_type": "code",
   "execution_count": 24,
   "metadata": {},
   "outputs": [
    {
     "data": {
      "text/plain": [
       "['Fearsome monsters... Exotic creatures... Vast riches... Hidden treasures... Evil enclaves... Unexplored lands... The word \"unknown\" holds magic. And some incredible people are  drawn to that magic. They are known...  ...as Hunters! Departure x And x Friends  {\\\\an8\\\\fad(601,580)}Whale Island  Gon\\'s still trying to catch the Lord of the Lake? Huh? Y-Yes... He\\'s been at it for a week, non-stop. You promised he could take the Hunter Exam  if he caught the Lord of the Lake? What a fool! Five adults couldn\\'t manage to  reel in that monster. How is a child supposed to catch that beast? Mito-san doesn\\'t want him  taking the Hunter Exam. But Gon\\'s old man was the same age  when he caught it... He can\\'t do it. Got him! Yes!',\n",
       " \"Yes! Yes! Yes! Yes! I got him good! It's huge! This is the Lord of the Lake? It's been twenty years! I know! It was Gon's father that time, right? He's his father's son. Gon actually caught the Lord! Look, Mito-san! Mito-san! I caught the Lord, as promised... So I can take the Hunter Exam, right? Right? I'll do my best. I promise to become a Hunter! It must be in the blood...  No one has been able to catch the Lord  after Ging pulled it off, at the age of twelve.\",\n",
       " \"And now his son has accomplished  the same feat, at the same age. His eyes have the same shine as his father's. We can no longer stop him. Are you sure about this, Gon? Uh-huh. Your father abandoned you  when you were still young  to become a Hunter. I know. He chose becoming a Hunter over raising you! Isn't that amazing? Huh? Being a Hunter is so great, he was willing  to abandon his own kid! It's a dangerous job! You never know when you might lose your life! Don't you understand? I don't. But I want to know more! I want to become a Hunter and discover why  it was so important to my dad! You really are Ging's son... I promise I'll pass the exam. I'll pass the exam, and I'll become a Hunter!\",\n",
       " \"Just promise that you'll come back safe. Can you do that? Uh-huh, I promise! Pinky swear made...  Whoever breaks their promise has  to swallow a thousand needles. Sealed with a kiss! Gon... Thank you, Mito-san. Good luck! Knock 'em dead! I'm going to become the  best Hunter in the world! Once I'm the best Hunter  in the world, I'll come back! The best Hunter in the world? Kid doesn't respect us. Every year, there are millions of skilled  applicants for the Hunter Exam. But only a handful are selected. Don't say stuff that you can't back up, boy. What are you doing, Katsuo? At this rate, you'll never make a decent sailor. Why are you bent over? Hey, losers!\",\n",
       " \"Don't slack off! A-Aye, sir! Hey... Didn't you hear me? Move that box! A-Aye, Captain! Hold on. Thanks! A storm's coming. How can you tell, boy? That's what the seagulls are saying. What? Plus... It's a huge storm that's coming! It's true... I can tell by the smell! {\\\\i1}That boy...  {\\\\i1}Those eyes...  {\\\\i1}Could he be...  Captain! The mast won't last much longer! We should lower the sails! Don't be stupid!\",\n",
       " \"The fun's about to start. Here we go! Full to port! Let's fly! Hunter Vocabulary  Gon  Those waves weren't much...  Hey, take the helm. A-Aye! Damn, this is one lousy crew. Not a one of them can stand. Pathetic. And they're supposed to be  taking the Hunter Examination. What a laugh! Here are some herbs. If you chew them, you'll feel a little better. W-Water... It's coming, so hold on. That boy... This is one sour apple...  {\\\\i1}I see. {\\\\i1}There are a few tough nuts on board. Excuse me! H-Here is your water!\",\n",
       " \"Thanks. Now drink your fill. Thanks. I really appreciate it, Katsuo-san. First, tell me your names. I'm Gon! I'm Kurapika. It's Leorio. Why do you want to become Hunters? Hey! If you're not an examiner,  you can't boss us around! Just answer the question! My dad is a Hunter. I left Whale Island because I want to know  why my dad desired so much to be a Hunter. {\\\\i1}Whale Island...  {\\\\i1}So this is Ging's son. {\\\\i1}The day has finally come. Hey, kid! Huh? You're not supposed to answer his question! Why can't I tell him why I'm here?\",\n",
       " \"Not a team player, huh? I don't wish to reveal why I'm here. I agree with Leorio. What? Hey! Aren't you younger than I am? Show some respect! It's quite simple to avoid pesky questions  by offering a plausible lie. Hey! Are you listening to me? However, it is quite shameful to rely upon deceit. That said, if I were to tell you the truth,  I would be exposing my deepest secrets. That is why I cannot provide an answer. Hey, you... Don't ignore me! In other words,  you refuse to answer my question. Hey, Katsuo. Aye, Captain. Tell the examination board that  we have two more dropouts. What do you mean? You still haven't figured it out?\",\n",
       " \"The Hunter Examination has already begun. What? There are as many Hunter wannabes  as there are stars in the sky. The examiners don't have the time or  resources to review them all. So they hire people like us, to trim the fat. I've already notified the board  that everyone else on this ship had to withdraw. If they couldn't handle a little storm,  they'd stand no chance in the  Hunter Examination's later stages. In other words, you only proceed to  the main exam if I pass you. So think carefully before you answer my question. So he says...  Should have told us sooner. I am the last survivor of the Kurta Clan. Four years ago, my clan was annihilated  by a band of criminals. I wish to become a Hunter and  hunt down that band,  the Phantom Troupe. So you want to become a bounty hunter? The Phantom Troupe is a Class-A bounty. Not even the most grizzled Hunters  can touch them. You'd be throwing away your life. I do not fear death. I fear only that my rage  will fade over time. So, in other words, you want revenge.\",\n",
       " \"Does that require that you become a Hunter? That may be the stupidest question  I've ever heard, Leorio. That's Leorio-san to you! Places accessible only to Hunters...  Information otherwise unobtainable... Actions otherwise impossible... There are more reasons than your  brain could possibly handle. Hey! Why do you want to become a Hunter, Leorio-san? Me? I'll make it short. I want money. Money can get you everything! A big house! A nice car! Good liquor! You can't buy class with money, Leorio. That's three times now. Step outside. I'll end the filthy Kurta bloodline, here and now. Take that back, Leorio!\",\n",
       " \"Take that back! That's Leorio-san to you. Hey, boys! I'm not finished yet! Just let them go. Huh? Mito-san once told me...  {\\\\i1}If you want to get to know someone,  {\\\\i1}you need to make an effort  {\\\\i1}to learn why they're angry. It's important for them to  understand why they're mad. So we should let them settle it themselves. Captain! L-Look... If we get caught by that waterspout,  the ship will sink. Lower the sails now. Aye! I'll help! Uh-huh, come with me. I'll take the helm. Aye! Full to starboard! Hurry!\",\n",
       " \"The waterspout is gonna catch us! Take back what you said! Take back your words,  and I'll forgive you, Leorio. How many times must I repeat myself? You should show me some respect. I won't back down. Then I have no choice...  Katsuo-san! Damn it! Pull 'em out! Now...  You idiot! If we hadn't grabbed your legs,  you'd be shark bait now. Honestly...  How reckless can you be? But you did catch me. Huh? You both caught me! Well, I guess so...  Gon! Katsuo-san! Thanks, Gon! You saved my life. I couldn't have done it alone.\",\n",
       " \"These two helped save you. Huh? Thank you very much! No, you don't need to thank me. Well...  Yeah, I'm glad you're okay. Yeah! So I'll be returning to my station! What? I apologize for my rude behavior. Sorry, Leorio-san. Wh-What's with the sudden change? We sound like strangers...  Just call me Leorio... Leorio works. I'm also sorry. I take back everything I said. I was wrong. No, it's okay. I like you guys! Okay! I'll take responsibility for bringing  you three to the port closest to the exam site. Really?\",\n",
       " \"What about your test? Like I said... It's my decision to make. And all three of you pass! Yay! And so began Gon's journey...  To follow in his father's footsteps  and become a Hunter. Next time: Test x Of x Tests. Look forward to it!\"]"
      ]
     },
     "execution_count": 24,
     "metadata": {},
     "output_type": "execute_result"
    }
   ],
   "source": [
    "script_batches[:100]"
   ]
  },
  {
   "cell_type": "code",
   "execution_count": 25,
   "metadata": {},
   "outputs": [],
   "source": [
    "#Run the sentences through the model\n",
    "theme_output = theme_classifier(script_batches[:2], theme_list, multi_label=True)"
   ]
  },
  {
   "cell_type": "code",
   "execution_count": 26,
   "metadata": {},
   "outputs": [
    {
     "data": {
      "text/plain": [
       "[{'sequence': 'Fearsome monsters... Exotic creatures... Vast riches... Hidden treasures... Evil enclaves... Unexplored lands... The word \"unknown\" holds magic. And some incredible people are  drawn to that magic. They are known...  ...as Hunters! Departure x And x Friends  {\\\\an8\\\\fad(601,580)}Whale Island  Gon\\'s still trying to catch the Lord of the Lake? Huh? Y-Yes... He\\'s been at it for a week, non-stop. You promised he could take the Hunter Exam  if he caught the Lord of the Lake? What a fool! Five adults couldn\\'t manage to  reel in that monster. How is a child supposed to catch that beast? Mito-san doesn\\'t want him  taking the Hunter Exam. But Gon\\'s old man was the same age  when he caught it... He can\\'t do it. Got him! Yes!',\n",
       "  'labels': ['betrayal',\n",
       "   'sacrifice',\n",
       "   'discipline',\n",
       "   'hope',\n",
       "   'success',\n",
       "   'battle',\n",
       "   'friendship',\n",
       "   'love'],\n",
       "  'scores': [0.9673540592193604,\n",
       "   0.31436631083488464,\n",
       "   0.29842954874038696,\n",
       "   0.257778525352478,\n",
       "   0.2138640284538269,\n",
       "   0.17349372804164886,\n",
       "   0.12347804754972458,\n",
       "   0.0040105110965669155]},\n",
       " {'sequence': \"Yes! Yes! Yes! Yes! I got him good! It's huge! This is the Lord of the Lake? It's been twenty years! I know! It was Gon's father that time, right? He's his father's son. Gon actually caught the Lord! Look, Mito-san! Mito-san! I caught the Lord, as promised... So I can take the Hunter Exam, right? Right? I'll do my best. I promise to become a Hunter! It must be in the blood...  No one has been able to catch the Lord  after Ging pulled it off, at the age of twelve.\",\n",
       "  'labels': ['success',\n",
       "   'hope',\n",
       "   'sacrifice',\n",
       "   'battle',\n",
       "   'discipline',\n",
       "   'friendship',\n",
       "   'love',\n",
       "   'betrayal'],\n",
       "  'scores': [0.9823290705680847,\n",
       "   0.9597513675689697,\n",
       "   0.8510117530822754,\n",
       "   0.8410558104515076,\n",
       "   0.8240034580230713,\n",
       "   0.7791010141372681,\n",
       "   0.3383287787437439,\n",
       "   0.07269688695669174]}]"
      ]
     },
     "execution_count": 26,
     "metadata": {},
     "output_type": "execute_result"
    }
   ],
   "source": [
    "theme_output"
   ]
  },
  {
   "cell_type": "code",
   "execution_count": 27,
   "metadata": {},
   "outputs": [],
   "source": [
    "themes = {}\n",
    "for output in theme_output:\n",
    "    for label,score in zip(output['labels'],output['scores']):\n",
    "        if label not in themes:\n",
    "            themes[label]= []\n",
    "        themes[label].append(score)"
   ]
  },
  {
   "cell_type": "code",
   "execution_count": 28,
   "metadata": {},
   "outputs": [
    {
     "data": {
      "text/plain": [
       "{'betrayal': [0.9673540592193604, 0.07269688695669174],\n",
       " 'sacrifice': [0.31436631083488464, 0.8510117530822754],\n",
       " 'discipline': [0.29842954874038696, 0.8240034580230713],\n",
       " 'hope': [0.257778525352478, 0.9597513675689697],\n",
       " 'success': [0.2138640284538269, 0.9823290705680847],\n",
       " 'battle': [0.17349372804164886, 0.8410558104515076],\n",
       " 'friendship': [0.12347804754972458, 0.7791010141372681],\n",
       " 'love': [0.0040105110965669155, 0.3383287787437439]}"
      ]
     },
     "execution_count": 28,
     "metadata": {},
     "output_type": "execute_result"
    }
   ],
   "source": [
    "themes"
   ]
  },
  {
   "cell_type": "code",
   "execution_count": 29,
   "metadata": {},
   "outputs": [],
   "source": [
    "import numpy as np\n",
    "def get_themes(script):\n",
    "    \n",
    "    script_sentences = sent_tokenize(script)\n",
    "    \n",
    "    #Batch sentences into a list of sentences of 20 words\n",
    "    sentences_batch_size = 20\n",
    "    script_batches = []\n",
    "    for i in range(0,len(script_sentences),sentences_batch_size):\n",
    "       sent = \" \".join(script_sentences[i:i+sentences_batch_size])\n",
    "       script_batches.append(sent)\n",
    "   \n",
    "    #Run the model\n",
    "    theme_output = theme_classifier(script_batches[:2], theme_list, multi_label=True)\n",
    "\n",
    "    #Modify the ouput format\n",
    "    themes = {}\n",
    "    for output in theme_output:\n",
    "     for label,score in zip(output['labels'],output['scores']):\n",
    "        if label not in themes:\n",
    "            themes[label]= []\n",
    "        themes[label].append(score)\n",
    "\n",
    "    #Calculating the mean value of all episodes of each theme \n",
    "    themes = {key: np.mean(np.array(value)) for key,value in themes.items()}\n",
    "    \n",
    "    return themes\n",
    "    "
   ]
  },
  {
   "cell_type": "code",
   "execution_count": 30,
   "metadata": {},
   "outputs": [
    {
     "data": {
      "text/html": [
       "<div>\n",
       "<style scoped>\n",
       "    .dataframe tbody tr th:only-of-type {\n",
       "        vertical-align: middle;\n",
       "    }\n",
       "\n",
       "    .dataframe tbody tr th {\n",
       "        vertical-align: top;\n",
       "    }\n",
       "\n",
       "    .dataframe thead th {\n",
       "        text-align: right;\n",
       "    }\n",
       "</style>\n",
       "<table border=\"1\" class=\"dataframe\">\n",
       "  <thead>\n",
       "    <tr style=\"text-align: right;\">\n",
       "      <th></th>\n",
       "      <th>episode</th>\n",
       "      <th>scripts</th>\n",
       "    </tr>\n",
       "  </thead>\n",
       "  <tbody>\n",
       "    <tr>\n",
       "      <th>0</th>\n",
       "      <td>1</td>\n",
       "      <td>Fearsome monsters... Exotic creatures...  Vast...</td>\n",
       "    </tr>\n",
       "    <tr>\n",
       "      <th>1</th>\n",
       "      <td>2</td>\n",
       "      <td>Text  Fearsome monsters... Exotic creatures......</td>\n",
       "    </tr>\n",
       "    <tr>\n",
       "      <th>2</th>\n",
       "      <td>3</td>\n",
       "      <td>Text  Fearsome monsters... Exotic creatures......</td>\n",
       "    </tr>\n",
       "    <tr>\n",
       "      <th>3</th>\n",
       "      <td>4</td>\n",
       "      <td>Text  Fearsome monsters... Exotic creatures......</td>\n",
       "    </tr>\n",
       "    <tr>\n",
       "      <th>4</th>\n",
       "      <td>5</td>\n",
       "      <td>Text  Fearsome monsters... Exotic creatures.....</td>\n",
       "    </tr>\n",
       "    <tr>\n",
       "      <th>...</th>\n",
       "      <td>...</td>\n",
       "      <td>...</td>\n",
       "    </tr>\n",
       "    <tr>\n",
       "      <th>143</th>\n",
       "      <td>95</td>\n",
       "      <td>Text  Looks like you guys have been  waiting ...</td>\n",
       "    </tr>\n",
       "    <tr>\n",
       "      <th>144</th>\n",
       "      <td>96</td>\n",
       "      <td>0,0,100,100,0,0,1,2,0,8,0040,0040,0013,0  0,0,...</td>\n",
       "    </tr>\n",
       "    <tr>\n",
       "      <th>145</th>\n",
       "      <td>97</td>\n",
       "      <td>0,0,100,100,0,0,1,2,0,8,0040,0040,0018,0    Te...</td>\n",
       "    </tr>\n",
       "    <tr>\n",
       "      <th>146</th>\n",
       "      <td>98</td>\n",
       "      <td>Text  To become kings, the Chimera Ants  have ...</td>\n",
       "    </tr>\n",
       "    <tr>\n",
       "      <th>147</th>\n",
       "      <td>99</td>\n",
       "      <td>Text  After Gon parts ways with Killua  in or...</td>\n",
       "    </tr>\n",
       "  </tbody>\n",
       "</table>\n",
       "<p>148 rows × 2 columns</p>\n",
       "</div>"
      ],
      "text/plain": [
       "     episode                                            scripts\n",
       "0          1  Fearsome monsters... Exotic creatures...  Vast...\n",
       "1          2  Text  Fearsome monsters... Exotic creatures......\n",
       "2          3  Text  Fearsome monsters... Exotic creatures......\n",
       "3          4  Text  Fearsome monsters... Exotic creatures......\n",
       "4          5   Text  Fearsome monsters... Exotic creatures.....\n",
       "..       ...                                                ...\n",
       "143       95   Text  Looks like you guys have been  waiting ...\n",
       "144       96  0,0,100,100,0,0,1,2,0,8,0040,0040,0013,0  0,0,...\n",
       "145       97  0,0,100,100,0,0,1,2,0,8,0040,0040,0018,0    Te...\n",
       "146       98  Text  To become kings, the Chimera Ants  have ...\n",
       "147       99   Text  After Gon parts ways with Killua  in or...\n",
       "\n",
       "[148 rows x 2 columns]"
      ]
     },
     "execution_count": 30,
     "metadata": {},
     "output_type": "execute_result"
    }
   ],
   "source": [
    "df"
   ]
  },
  {
   "cell_type": "code",
   "execution_count": null,
   "metadata": {},
   "outputs": [],
   "source": []
  }
 ],
 "metadata": {
  "kernelspec": {
   "display_name": "Python 3",
   "language": "python",
   "name": "python3"
  },
  "language_info": {
   "codemirror_mode": {
    "name": "ipython",
    "version": 3
   },
   "file_extension": ".py",
   "mimetype": "text/x-python",
   "name": "python",
   "nbconvert_exporter": "python",
   "pygments_lexer": "ipython3",
   "version": "3.11.7"
  }
 },
 "nbformat": 4,
 "nbformat_minor": 2
}
